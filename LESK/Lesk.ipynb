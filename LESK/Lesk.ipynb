{
 "cells": [
  {
   "cell_type": "markdown",
   "metadata": {},
   "source": [
    "# Word sense disambiguation with Simplified Lesk for Ukrainian"
   ]
  },
  {
   "cell_type": "markdown",
   "metadata": {},
   "source": [
    "## Senses\n",
    "\n",
    "Send requests to http://sum.in.ua/ to collect senses for a word."
   ]
  },
  {
   "cell_type": "code",
   "execution_count": 1,
   "metadata": {},
   "outputs": [],
   "source": [
    "from lxml import html\n",
    "import requests\n",
    "import nltk\n",
    "\n",
    "import pickle\n",
    "import numpy as np\n",
    "from sklearn.metrics import confusion_matrix, accuracy_score\n",
    "import seaborn as sns; sns.set()\n",
    "from matplotlib import pyplot as plt\n",
    "\n",
    "import os\n",
    "import re\n",
    "import pymorphy2\n",
    "import tokenize_uk\n",
    "from pigeon import annotate\n",
    "\n",
    "from collections import Counter\n",
    "from tqdm import tqdm_notebook as progress"
   ]
  },
  {
   "cell_type": "code",
   "execution_count": 2,
   "metadata": {},
   "outputs": [],
   "source": [
    "conversion = {\n",
    "    u'\\u0410' : 'A',    u'\\u0430' : 'a',\n",
    "    u'\\u0411' : 'B',    u'\\u0431' : 'b',\n",
    "    u'\\u0412' : 'V',    u'\\u0432' : 'v',\n",
    "    u'\\u0413' : 'Gh',   u'\\u0433' : 'gh',\n",
    "    u'\\u0490' : 'G',    u'\\u0491' : 'g',\n",
    "    u'\\u0414' : 'D',    u'\\u0434' : 'd',\n",
    "    u'\\u0415' : 'E',    u'\\u0435' : 'e',\n",
    "    u'\\u0404' : 'Ye',   u'\\u0454' : 'je',\n",
    "    u'\\u0416' : 'Zh',   u'\\u0436' : 'zh',\n",
    "    u'\\u0417' : 'Z',    u'\\u0437' : 'z',\n",
    "    u'\\u0418' : 'Y',    u'\\u0438' : 'y',\n",
    "    u'\\u0406' : 'I',    u'\\u0456' : 'i',\n",
    "    u'\\u0407' : 'Ji',   u'\\u0457' : 'ji',\n",
    "    u'\\u0419' : 'J',    u'\\u0439' : 'j',\n",
    "    u'\\u041a' : 'K',    u'\\u043a' : 'k',\n",
    "    u'\\u041b' : 'L',    u'\\u043b' : 'l',\n",
    "    u'\\u041c' : 'M',    u'\\u043c' : 'm',\n",
    "    u'\\u041d' : 'N',    u'\\u043d' : 'n',\n",
    "    u'\\u041e' : 'O',    u'\\u043e' : 'o',\n",
    "    u'\\u041f' : 'P',    u'\\u043f' : 'p',\n",
    "    u'\\u0420' : 'R',    u'\\u0440' : 'r',\n",
    "    u'\\u0421' : 'S',    u'\\u0441' : 's',\n",
    "    u'\\u0422' : 'T',    u'\\u0442' : 't',\n",
    "    u'\\u0423' : 'U',    u'\\u0443' : 'u',\n",
    "    u'\\u0424' : 'F',    u'\\u0444' : 'f',\n",
    "    u'\\u0425' : 'Kh',   u'\\u0445' : 'kh',\n",
    "    u'\\u0426' : 'C',    u'\\u0446' : 'c',\n",
    "    u'\\u0427' : 'Ch',   u'\\u0447' : 'ch',\n",
    "    u'\\u0428' : 'Sh',   u'\\u0448' : 'sh',\n",
    "    u'\\u0429' : 'Shh',  u'\\u0449' : 'shh',\n",
    "    u'\\u044c' : 'j',\n",
    "    u'\\u042e' : 'Ju',   u'\\u044e' : 'ju',\n",
    "    u'\\u042f' : 'Ja',   u'\\u044f' : 'ja',\n",
    "    u'\\'' : '.'\n",
    "}\n",
    "\n",
    "def transliterate(word):\n",
    "    translit = []\n",
    "    for c in word:\n",
    "        translit.append(conversion.get(c, c))\n",
    "    return ''.join(translit)\n",
    "\n",
    "URL = \"http://sum.in.ua/s/\"\n",
    "\n",
    "def get_senses(word):\n",
    "    \"\"\"\n",
    "    Extract senses for WORD from the dictionary.\n",
    "    \"\"\"\n",
    "    word_tr = transliterate(word)\n",
    "    page = requests.get(URL + word_tr)\n",
    "    tree = html.fromstring(page.text)\n",
    "    senses_full = tree.xpath(\"//p[@class='znach']\")\n",
    "    print(len(senses_full), \"senses found for the word\", word)\n",
    "    senses = [list(filter(lambda v: v != ' ', sense.xpath('text()')))[0].split('.')[0].replace('\\n', ' ')\n",
    "              for sense in senses_full]\n",
    "    senses_with_examples = [\" \".join(sense.xpath('text()')) for sense in senses_full]\n",
    "    return list(enumerate(senses, 1)), list(enumerate(senses_with_examples, 1))"
   ]
  },
  {
   "cell_type": "markdown",
   "metadata": {},
   "source": [
    "> **1. The word I've chosen is `сонце` with 7 senses:**"
   ]
  },
  {
   "cell_type": "code",
   "execution_count": 3,
   "metadata": {},
   "outputs": [],
   "source": [
    "load_from_file = True\n",
    "\n",
    "if not load_from_file:\n",
    "    word = \"сонце\"\n",
    "    senses, senses_with_examples = get_senses(word)\n",
    "    # Write collected data\n",
    "    with open('word_senses.pkl', 'wb') as f:\n",
    "        pickle.dump({'word': word,\n",
    "                     'senses': senses,\n",
    "                     'senses_with_examples': senses_with_examples}, f)\n",
    "else:\n",
    "    # Read collected data\n",
    "    with open('word_senses.pkl', 'rb') as f:\n",
    "        word_senses = pickle.load(f)\n",
    "        word = word_senses['word']\n",
    "        senses = word_senses['senses']\n",
    "        senses_with_examples = word_senses['senses_with_examples']"
   ]
  },
  {
   "cell_type": "code",
   "execution_count": 4,
   "metadata": {
    "scrolled": false
   },
   "outputs": [
    {
     "name": "stdout",
     "output_type": "stream",
     "text": [
      "Word: сонце\n",
      "===================== Sense 1 =====================\n",
      " Центральне небесне світило сонячної «системи, що має форму гігантської розжареної кулі, яка випромінює світло й тепло\n",
      "===================== Sense 2 =====================\n",
      " Відбиття, відображення чим-небудь або у чомусь цього небесного світила\n",
      "===================== Sense 3 =====================\n",
      " Світло й тепло, що випромінюються цим світилом\n",
      "===================== Sense 4 =====================\n",
      " Про те (того), хто (що) є джерелом життя, втіхи, радості і т\n",
      "===================== Sense 5 =====================\n",
      " Те, що освітлює шлях, той, хто веде за собою  (у житті, боротьбі і т\n",
      "===================== Sense 6 =====================\n",
      " Центральна планета інших планетних систем\n",
      "===================== Sense 7 =====================\n",
      " Гімнастична вправа на турніку\n"
     ]
    }
   ],
   "source": [
    "print('Word:', word)\n",
    "for sense in senses:\n",
    "    print('===================== Sense', sense[0], '=====================')\n",
    "    print(sense[1])"
   ]
  },
  {
   "cell_type": "markdown",
   "metadata": {},
   "source": [
    "## Collect sentenses from the brown-uk corpus\n",
    "\n",
    "Read files from https://github.com/brown-uk/corpus/tree/master/data/good. Find all sentences that contain the word in question.\n",
    "\n",
    "Use https://github.com/lang-uk/tokenize-uk for tokenization:\n",
    "pip install tokenize_uk\n",
    "\n",
    "and https://github.com/kmike/pymorphy2 for lemmatization:\n",
    "\n",
    "pip install -U https://github.com/kmike/pymorphy2/archive/master.zip#egg=pymorphy2\n",
    "\n",
    "pip install -U pymorphy2-dicts-uk"
   ]
  },
  {
   "cell_type": "markdown",
   "metadata": {},
   "source": [
    "> **2. Collected 174 sentences for the word `сонце`**"
   ]
  },
  {
   "cell_type": "code",
   "execution_count": 5,
   "metadata": {},
   "outputs": [],
   "source": [
    "CORPUS_PATH = \"./corpus/data/good/\"\n",
    "morph = pymorphy2.MorphAnalyzer(lang='uk')\n",
    "\n",
    "def find_sentences(text, word):\n",
    "    \"\"\"\n",
    "    From TEXT select sentences that contain WORD.\n",
    "    \"\"\"\n",
    "    sentences_w_word = []\n",
    "    paragraphs = tokenize_uk.tokenize_text(text)\n",
    "    for paragraph in paragraphs:\n",
    "        for sentence in paragraph:\n",
    "            for token in sentence:\n",
    "                if morph.parse(token)[0].normal_form == word:\n",
    "                    sentences_w_word.append(sentence)\n",
    "                    break\n",
    "    return sentences_w_word"
   ]
  },
  {
   "cell_type": "code",
   "execution_count": 6,
   "metadata": {},
   "outputs": [],
   "source": [
    "if not load_from_file:\n",
    "    sentences = []\n",
    "\n",
    "    for filename in progress(os.listdir(CORPUS_PATH)):\n",
    "        with open(CORPUS_PATH + filename, \"r\") as f:\n",
    "            text = f.read()\n",
    "        body = text[text.find(\"<body>\"):]\n",
    "        body = re.sub(r\"<[^<>]+>\", \"\", body)\n",
    "        sentences += find_sentences(body, word)\n",
    "    # Write collected data\n",
    "    with open('word_sentences.pkl', 'wb') as f:\n",
    "        pickle.dump({'word': word, 'sentences': sentences}, f)\n",
    "else:\n",
    "    # Read collected data\n",
    "    with open('word_sentences.pkl', 'rb') as f:\n",
    "        word_sentences = pickle.load(f)\n",
    "        sentences = word_sentences['sentences']"
   ]
  },
  {
   "cell_type": "code",
   "execution_count": 7,
   "metadata": {},
   "outputs": [
    {
     "name": "stdout",
     "output_type": "stream",
     "text": [
      "174 sentences found for the word сонце\n",
      "===================== Sentence 1 =====================\n",
      "Найближчими днями поряд з піцерією має з’явитися велетенський сонячний годинник у вигляді журавля - криниці . « Тут зустрінуться три стихії : вітер , вода і сонце , — інтригує міський голова . — Гадаю , цей годинник стане одним із символів нашого міста » .\n",
      "===================== Sentence 2 =====================\n",
      "Особливо надвечір , після заходу сонця — вона вже рубає сама і в темряві — рука її лише стримує .\n",
      "===================== Sentence 3 =====================\n",
      "На графічному зображенні також показано спектральні характеристики сонячних променів при різних кутах нахилу сонця над горизонтом ( 30 , 65 ) для їх порівняння зі спектральними характеристиками експериментальних джерел світла .\n",
      "===================== Sentence 4 =====================\n",
      "Для модельної системи вибрано джерело Кс2 , світло якого при проходженні через 5 мм світлофільтр СЗС -24 має найближчу до спектральних характеристик сонця криву ( див . рис . 1 ) .\n",
      "===================== Sentence 5 =====================\n",
      "Але коли перші промені сонця освітили крони дерев , мукання стихло й село поринуло в довгоочікувану тишу .\n",
      "...\n"
     ]
    }
   ],
   "source": [
    "print(len(sentences), 'sentences found for the word', word)\n",
    "\n",
    "for i, sentence in enumerate(sentences[:5]):\n",
    "    print('===================== Sentence', i+1, '=====================')\n",
    "    print(' '.join(sentence))\n",
    "print('...')"
   ]
  },
  {
   "cell_type": "markdown",
   "metadata": {},
   "source": [
    "## Implement Simplified Lesk"
   ]
  },
  {
   "cell_type": "markdown",
   "metadata": {},
   "source": [
    "### 1. Collect context words from senses\n",
    "\n",
    "Tokenize, downcase, lemmatize, and remove stop-words."
   ]
  },
  {
   "cell_type": "code",
   "execution_count": 8,
   "metadata": {},
   "outputs": [],
   "source": [
    "stopwords_uk = ['до', 'на', 'за', 'його', 'і', 'в', 'що', 'він', 'щоб', 'мій', 'про',\n",
    "                'небудь', 'ой',\n",
    "                'я', 'те', 'з', 'тим', 'як', 'все', 'вона', 'ти', 'своїй', 'її', 'того',\n",
    "                'від', 'ще', 'ніби', 'ви', 'там', 'де', 'вони', 'т', 'ін', 'тощо'\n",
    "                'куди', 'всіх', 'о', 'через', 'ми', 'твій', 'наш', 'ваш', 'є', 'бути']\n",
    "\n",
    "def collect_bow(text):\n",
    "    \"\"\"\n",
    "    Tokenize TEXT with tokenize_uk, lemmatize TEXT with pymorphy2,\n",
    "    and remove functional words.\n",
    "    \"\"\"\n",
    "    tokens = tokenize_uk.tokenize_words(text)\n",
    "    bow = []\n",
    "    for token in tokens:\n",
    "        parse = morph.parse(token)[0]\n",
    "        if parse.tag.POS not in {'NUMR', 'NPRO', 'PREP', 'CONJ', 'PRCL'} and \\\n",
    "           not 'PNCT' in parse.tag and \\\n",
    "           not token.isdigit() and \\\n",
    "           token not in stopwords_uk and \\\n",
    "           parse.normal_form not in stopwords_uk and \\\n",
    "           parse.normal_form != word:\n",
    "            \n",
    "            bow.append(parse.normal_form)\n",
    "    return set(bow)"
   ]
  },
  {
   "cell_type": "code",
   "execution_count": 9,
   "metadata": {},
   "outputs": [
    {
     "name": "stdout",
     "output_type": "stream",
     "text": [
      "===================== Sense 1 =====================\n",
      "{'вічно', 'забутися', 'док', 'близький', 'мусити', 'роль', 'зраджений', 'рильський', 'поезія', 'форма', 'забрати', 'рухатися', 'хотітися', 'центральний', 'присудок', 'тепло', 'рядок', 'світло', 'добре', 'їхати', 'реакція', 'нарід', 'навіки', \"з'явитися\", 'лихий', 'напрямок', 'яскравий', 'славний', 'том', 'померти', 'люди', 'чужина', 'величний', 'надра', 'сидіти', 'зайти', 'лежати', 'український', 'думка', 'історичний', 'світа', 'працелюбний', 'сторінка', 'проти', 'книжечка', 'удосвіта', 'змальовувати', 'образ', 'усвідомити', 'дуже', 'південь', 'світити', 'суспільство', 'панночка', 'виїхати', 'висунути', 'пуття', 'люстра', 'супроводжуватися', 'право', 'сумний', 'люд', 'повставати', 'золотий', 'грати', 'мати', 'нікола', 'булий', 'призначення', 'термоядерний', 'чоло', 'бабуся', 'великий', 'неволя', 'виглянути', 'чужія', 'боліти', 'система', 'квітка', 'рух', 'настання', 'воля', 'раненько', 'сторона', 'час', 'відбуватися', 'гігантський', 'прямо', 'добрий', 'кома', 'білоруський', 'перти', 'вода', 'вабрана', 'рана', 'діброва', 'синовий', 'янка', 'виділення', 'казати', 'сонячний', 'обличчя', 'дивуватися', 'шотландський', 'липень', 'криниця', 'довіку', 'людина', 'знати', 'навпаки', 'земля', 'раз', 'пропити', 'жити', 'гріти', 'осліплювати', 'григорович', 'навкруги', 'крихітний', 'протилежний', 'вихор', 'світило', 'місце', 'зажуритися', 'купала', 'зірвати', 'вулиця', 'випромінювати', 'зостатися', 'бачити', 'стороннія', 'темниця', 'музика', 'світ', 'йти', 'навчити', 'день', 'могти', 'життя', 'тарас', 'кучер', 'во', 'крикнути', 'максим', 'крилатий', 'розжарений', 'сяйво', 'процес', 'кулі', 'дорогий', 'серце', 'небесний', 'кількість', 'пучко', 'диво', 'хлопець', 'нейтрино', 'ярмо', 'обходити', 'минутися'}\n",
      "===================== Sense 2 =====================\n",
      "{'світило', 'експедиція', 'треба', 'простір', 'варварський', 'підігрівати', 'плавати', 'вибух', 'вода', 'знову', 'бачити', 'відро', 'маса', 'баклага', 'дніпро', 'старий', 'спалах', 'засяяти', 'зловісний', 'відбиття', 'атомний', 'спочатку', 'криниця', 'відображення', 'шов', 'широкий', 'боєць', 'розжарений', 'океан', 'нагадувати', 'метал', 'нагрітий', 'яскравий', 'небесний', 'рука', 'учасник', 'засвітити', 'бомба', 'величезний', 'електричний'}\n",
      "...\n"
     ]
    }
   ],
   "source": [
    "for sense in senses_with_examples[:2]:\n",
    "    print('===================== Sense', sense[0], '=====================')\n",
    "    print(collect_bow(sense[1]))\n",
    "print('...')"
   ]
  },
  {
   "cell_type": "code",
   "execution_count": 10,
   "metadata": {},
   "outputs": [
    {
     "name": "stdout",
     "output_type": "stream",
     "text": [
      "===================== Sentence 1 =====================\n",
      "{'найближчий', 'символ', 'поряд', 'вода', 'вітер', 'гадати', 'інтригувати', 'голова', 'велетенський', 'годинник', 'сонячний', 'день', 'зустрінутися', 'криниця', 'мати', 'з’явитися', 'журавель', 'вигляд', 'стан', 'терти', 'піцерія', 'міський', 'стихія', 'місто'}\n",
      "===================== Sentence 2 =====================\n",
      "{'захід', 'стримувати', 'рубати', 'вже', 'надвечір', 'темрявий', 'особливо', 'після', 'рука'}\n",
      "===================== Sentence 3 =====================\n",
      "{'показати', 'перти', 'нахил', 'зображення', 'горизонт', 'кут', 'графічний', 'різний', 'джерело', 'сонячний', 'експериментальний', 'порівняння', 'світлий', 'променіти', 'спектральний', 'характеристика'}\n",
      "===================== Sentence 4 =====================\n",
      "{'перти', 'система', 'проходження', 'сзс', 'найближчий', 'диво', 'кс2', 'рис', 'модельний', '-24', 'кривий', 'характеристика', 'джерело', 'мм', 'світлофільтр', 'світло', 'мати', 'спектральний', 'вибрати'}\n",
      "===================== Sentence 5 =====================\n",
      "{'тиша', 'дерево', 'поринути', 'промінь', 'перший', 'освітити', 'село', 'стихнути', 'крона', 'довгоочікуваний', 'мукання'}\n",
      "...\n"
     ]
    }
   ],
   "source": [
    "for i, sentence in enumerate(sentences[:5]):\n",
    "    print('===================== Sentence', i+1, '=====================')\n",
    "    print(collect_bow(sentence))\n",
    "print('...')"
   ]
  },
  {
   "cell_type": "code",
   "execution_count": 11,
   "metadata": {},
   "outputs": [
    {
     "name": "stdout",
     "output_type": "stream",
     "text": [
      "===================== Sense 2 =====================\n",
      "{'вічно', 'забутися', 'док', 'близький', 'мусити', 'роль', 'зраджений', 'рильський', 'поезія', 'форма', 'забрати', 'рухатися', 'хотітися', 'центральний', 'присудок', 'тепло', 'рядок', 'світло', 'добре', 'їхати', 'реакція', 'нарід', 'навіки', \"з'явитися\", 'лихий', 'напрямок', 'яскравий', 'славний', 'том', 'померти', 'люди', 'чужина', 'величний', 'надра', 'сидіти', 'зайти', 'лежати', 'український', 'думка', 'історичний', 'світа', 'працелюбний', 'сторінка', 'проти', 'книжечка', 'удосвіта', 'змальовувати', 'образ', 'усвідомити', 'дуже', 'південь', 'світити', 'суспільство', 'панночка', 'виїхати', 'висунути', 'пуття', 'люстра', 'супроводжуватися', 'право', 'сумний', 'люд', 'повставати', 'золотий', 'грати', 'мати', 'нікола', 'булий', 'призначення', 'термоядерний', 'чоло', 'бабуся', 'великий', 'неволя', 'виглянути', 'чужія', 'боліти', 'система', 'квітка', 'рух', 'настання', 'воля', 'раненько', 'сторона', 'час', 'відбуватися', 'гігантський', 'прямо', 'добрий', 'кома', 'білоруський', 'перти', 'вода', 'вабрана', 'рана', 'діброва', 'синовий', 'янка', 'виділення', 'казати', 'сонячний', 'обличчя', 'дивуватися', 'шотландський', 'липень', 'криниця', 'довіку', 'людина', 'знати', 'навпаки', 'земля', 'раз', 'пропити', 'жити', 'гріти', 'осліплювати', 'григорович', 'навкруги', 'крихітний', 'протилежний', 'вихор', 'світило', 'місце', 'зажуритися', 'купала', 'зірвати', 'вулиця', 'випромінювати', 'зостатися', 'бачити', 'стороннія', 'темниця', 'музика', 'світ', 'йти', 'навчити', 'день', 'могти', 'життя', 'тарас', 'кучер', 'во', 'крикнути', 'максим', 'крилатий', 'розжарений', 'сяйво', 'процес', 'кулі', 'дорогий', 'серце', 'небесний', 'кількість', 'пучко', 'диво', 'хлопець', 'нейтрино', 'ярмо', 'обходити', 'минутися'}\n",
      "===================== Sense 2 =====================\n",
      "{'світило', 'експедиція', 'треба', 'простір', 'варварський', 'підігрівати', 'плавати', 'вибух', 'вода', 'знову', 'бачити', 'відро', 'маса', 'баклага', 'дніпро', 'старий', 'спалах', 'засяяти', 'зловісний', 'відбиття', 'атомний', 'спочатку', 'криниця', 'відображення', 'шов', 'широкий', 'боєць', 'розжарений', 'океан', 'нагадувати', 'метал', 'нагрітий', 'яскравий', 'небесний', 'рука', 'учасник', 'засвітити', 'бомба', 'величезний', 'електричний'}\n",
      "...\n"
     ]
    }
   ],
   "source": [
    "signatures = [(idx, collect_bow(sense)) for idx, sense in senses_with_examples]\n",
    "\n",
    "for signature in signatures[:2]:\n",
    "    print('===================== Sense', sense[0], '=====================')\n",
    "    print(signature[1])\n",
    "print('...')"
   ]
  },
  {
   "cell_type": "markdown",
   "metadata": {},
   "source": [
    "### 2. Define the best sense for the word\n",
    "\n",
    "Find the sense that has the biggest overlap with the word context. Use sense 1 as default."
   ]
  },
  {
   "cell_type": "code",
   "execution_count": 12,
   "metadata": {},
   "outputs": [],
   "source": [
    "def classify(sentence, word, senses, senses_text, log=False):\n",
    "    \"\"\"\n",
    "    Find the sense that has the biggest overlap with the word context.\n",
    "    Use sense 1 as default.\n",
    "    \"\"\"\n",
    "    context = collect_bow(sentence)\n",
    "    best_sense = 1\n",
    "    max_overlap = 0\n",
    "    max_overlap_words = []\n",
    "    for sense_id, signature in signatures:\n",
    "        overlap = context.intersection(signature)\n",
    "        if len(overlap) > max_overlap:\n",
    "            max_overlap_words = overlap\n",
    "            max_overlap = len(overlap)\n",
    "            best_sense = sense_id\n",
    "    if log:\n",
    "        print(\" \".join(sentence))\n",
    "        print(\"Best sense:\", best_sense, \"--\", senses_text[best_sense-1][1])\n",
    "        print(\"{} words overlap: {}.\\n\".format(max_overlap, \", \".join(max_overlap_words)))\n",
    "    return best_sense, max_overlap_words"
   ]
  },
  {
   "cell_type": "markdown",
   "metadata": {},
   "source": [
    "> **3. Simplified Lesk for disambiguating the word `сонце` is below**"
   ]
  },
  {
   "cell_type": "code",
   "execution_count": 13,
   "metadata": {},
   "outputs": [
    {
     "name": "stdout",
     "output_type": "stream",
     "text": [
      "===================== Sentence 1 =====================\n",
      "Найближчими днями поряд з піцерією має з’явитися велетенський сонячний годинник у вигляді журавля - криниці . « Тут зустрінуться три стихії : вітер , вода і сонце , — інтригує міський голова . — Гадаю , цей годинник стане одним із символів нашого міста » .\n",
      "Best sense: 1 --  Центральне небесне світило сонячної «системи, що має форму гігантської розжареної кулі, яка випромінює світло й тепло\n",
      "5 words overlap: вода, криниця, сонячний, день, мати.\n",
      "\n",
      "===================== Sentence 2 =====================\n",
      "Особливо надвечір , після заходу сонця — вона вже рубає сама і в темряві — рука її лише стримує .\n",
      "Best sense: 2 --  Відбиття, відображення чим-небудь або у чомусь цього небесного світила\n",
      "1 words overlap: рука.\n",
      "\n",
      "===================== Sentence 3 =====================\n",
      "На графічному зображенні також показано спектральні характеристики сонячних променів при різних кутах нахилу сонця над горизонтом ( 30 , 65 ) для їх порівняння зі спектральними характеристиками експериментальних джерел світла .\n",
      "Best sense: 3 --  Світло й тепло, що випромінюються цим світилом\n",
      "4 words overlap: показати, світлий, сонячний, перти.\n",
      "\n",
      "===================== Sentence 4 =====================\n",
      "Для модельної системи вибрано джерело Кс2 , світло якого при проходженні через 5 мм світлофільтр СЗС -24 має найближчу до спектральних характеристик сонця криву ( див . рис . 1 ) .\n",
      "Best sense: 1 --  Центральне небесне світило сонячної «системи, що має форму гігантської розжареної кулі, яка випромінює світло й тепло\n",
      "5 words overlap: перти, світло, мати, диво, система.\n",
      "\n",
      "===================== Sentence 5 =====================\n",
      "Але коли перші промені сонця освітили крони дерев , мукання стихло й село поринуло в довгоочікувану тишу .\n",
      "Best sense: 3 --  Світло й тепло, що випромінюються цим світилом\n",
      "1 words overlap: село.\n",
      "\n"
     ]
    }
   ],
   "source": [
    "lesk_predictions = []\n",
    "lesk_overlaps = []\n",
    "for i in range(len(sentences)):\n",
    "    if i < 5:\n",
    "        print('===================== Sentence', i+1, '=====================')\n",
    "    sense_id, overlap = classify(sentences[i], word, signatures, senses, log=True if i < 5 else False)\n",
    "    lesk_predictions.append(sense_id)\n",
    "    lesk_overlaps.append(overlap)"
   ]
  },
  {
   "cell_type": "code",
   "execution_count": 14,
   "metadata": {},
   "outputs": [
    {
     "data": {
      "text/plain": [
       "Counter({1: 126, 2: 7, 3: 26, 4: 1, 5: 11, 6: 3})"
      ]
     },
     "execution_count": 14,
     "metadata": {},
     "output_type": "execute_result"
    }
   ],
   "source": [
    "sense_counts = []\n",
    "for (sentence, pred_label) in zip(sentences, lesk_predictions):\n",
    "    sense_counts.append(pred_label)\n",
    "Counter(sense_counts)"
   ]
  },
  {
   "cell_type": "markdown",
   "metadata": {},
   "source": [
    "> **4. The first 50 sentences are manually labelled to fix the disambiguation errors that Lesk made for `сонце`.**"
   ]
  },
  {
   "cell_type": "code",
   "execution_count": 15,
   "metadata": {},
   "outputs": [],
   "source": [
    "if not load_from_file:\n",
    "\n",
    "    for sense in senses:\n",
    "        print('===================== Sense', sense[0], '=====================')\n",
    "        print(sense[1])\n",
    "    # Annotate\n",
    "    sentences_annotations = annotate([' '.join(sentence) for sentence in sentences[:50]],\n",
    "      options=[str(sense[0]) for sense in senses],\n",
    "      include_skip=False,\n",
    "      max_num_options=7\n",
    "    )"
   ]
  },
  {
   "cell_type": "code",
   "execution_count": 16,
   "metadata": {},
   "outputs": [],
   "source": [
    "if not load_from_file:\n",
    "    sentences_annotations = [(annotation[0], int(annotation[1])) for annotation in sentences_annotations]\n",
    "    # Write annotated data\n",
    "    with open('word_sentences_annotations.pkl', 'wb') as f:\n",
    "        pickle.dump({'word': word, 'sentences_annotations': sentences_annotations}, f)\n",
    "else:\n",
    "    # Read annotated data\n",
    "    with open('word_sentences_annotations.pkl', 'rb') as f:\n",
    "        word_sentences_annotations = pickle.load(f)\n",
    "        sentences_annotations = word_sentences_annotations['sentences_annotations']"
   ]
  },
  {
   "cell_type": "code",
   "execution_count": 17,
   "metadata": {
    "scrolled": true
   },
   "outputs": [
    {
     "name": "stdout",
     "output_type": "stream",
     "text": [
      "('Найближчими днями поряд з піцерією має з’явитися велетенський сонячний годинник у вигляді журавля - криниці . « Тут зустрінуться три стихії : вітер , вода і сонце , — інтригує міський голова . — Гадаю , цей годинник стане одним із символів нашого міста » .', 3)\n",
      "('Особливо надвечір , після заходу сонця — вона вже рубає сама і в темряві — рука її лише стримує .', 1)\n",
      "('На графічному зображенні також показано спектральні характеристики сонячних променів при різних кутах нахилу сонця над горизонтом ( 30 , 65 ) для їх порівняння зі спектральними характеристиками експериментальних джерел світла .', 6)\n",
      "('Для модельної системи вибрано джерело Кс2 , світло якого при проходженні через 5 мм світлофільтр СЗС -24 має найближчу до спектральних характеристик сонця криву ( див . рис . 1 ) .', 6)\n",
      "('Але коли перші промені сонця освітили крони дерев , мукання стихло й село поринуло в довгоочікувану тишу .', 3)\n",
      "...\n"
     ]
    }
   ],
   "source": [
    "test_sentences = [annotation[0] for annotation in sentences_annotations]\n",
    "test_annotations = [annotation[1] for annotation in sentences_annotations]\n",
    "\n",
    "for annotation in sentences_annotations[:5]:\n",
    "    print(annotation)\n",
    "print('...')"
   ]
  },
  {
   "cell_type": "markdown",
   "metadata": {},
   "source": [
    "> **The quality (confusion matrix) of WSD by Simplified Lesk is below**"
   ]
  },
  {
   "cell_type": "code",
   "execution_count": 18,
   "metadata": {
    "scrolled": false
   },
   "outputs": [
    {
     "name": "stdout",
     "output_type": "stream",
     "text": [
      "Counter({6: 27, 3: 10, 1: 8, 2: 3, 4: 2})\n",
      "Counter({1: 35, 3: 9, 2: 4, 4: 1, 5: 1})\n",
      "Accuracy: 0.1\n"
     ]
    },
    {
     "data": {
      "image/png": "[encoded data removed]",
      "text/plain": [
       "<Figure size 432x288 with 2 Axes>"
      ]
     },
     "metadata": {
      "needs_background": "light"
     },
     "output_type": "display_data"
    }
   ],
   "source": [
    "def test_classifier(test_sentences, test_annotations, classify_fn, signatures, log=False):\n",
    "    label_counts = []\n",
    "    lesk_counts = []    \n",
    "    test_lesk_predictions = []\n",
    "    for (sentence, label) in zip(test_sentences, test_annotations):\n",
    "        lesk_label, _ = classify_fn(sentence, word, signatures, senses)\n",
    "        test_lesk_predictions.append(lesk_label)\n",
    "        \n",
    "        label_counts.append(label)\n",
    "        lesk_counts.append(lesk_label)\n",
    "        if log:\n",
    "            if label != lesk_label:\n",
    "                print('Correct: ', label, '; Predicted', lesk_label)\n",
    "                print(sentence)\n",
    "\n",
    "    print(Counter(label_counts))\n",
    "    print(Counter(lesk_counts))\n",
    "\n",
    "    print('Accuracy:', accuracy_score(test_annotations, test_lesk_predictions))\n",
    "    \n",
    "    \n",
    "    cm = confusion_matrix(test_annotations, test_lesk_predictions)\n",
    "    sns.heatmap(cm, annot=True)\n",
    "    plt.title('Confusion matrix')\n",
    "    plt.show()\n",
    "    \n",
    "    return test_lesk_predictions\n",
    "\n",
    "test_lesk_predictions = test_classifier(test_sentences, test_annotations, classify, signatures)"
   ]
  },
  {
   "cell_type": "markdown",
   "metadata": {},
   "source": [
    "## Improve WSD"
   ]
  },
  {
   "cell_type": "markdown",
   "metadata": {},
   "source": [
    "> **Extended word lists for senses. Took into account word count and counting IDF score. Made predictions based on TF-IDF weights.**"
   ]
  },
  {
   "cell_type": "code",
   "execution_count": 19,
   "metadata": {},
   "outputs": [],
   "source": [
    "def collect_tc(text):\n",
    "    \"\"\"\n",
    "    Tokenize TEXT with tokenize_uk, lemmatize TEXT with pymorphy2, and remove functional words.\n",
    "    Return as Term Count\n",
    "    \"\"\"\n",
    "    tokens = tokenize_uk.tokenize_words(text)\n",
    "    bow = []\n",
    "    for token in tokens:\n",
    "        parse = morph.parse(token)[0]\n",
    "        if parse.tag.POS not in {'NUMR', 'NPRO', 'PREP', 'CONJ', 'PRCL'} and \\\n",
    "           not 'PNCT' in parse.tag and \\\n",
    "           not token.isdigit() and \\\n",
    "           token not in stopwords_uk and \\\n",
    "           parse.normal_form not in stopwords_uk and \\\n",
    "           parse.normal_form != word:\n",
    "            \n",
    "            bow.append(parse.normal_form)\n",
    "    return Counter(bow)\n",
    "\n",
    "def tc_to_tf(tc):\n",
    "    n = np.sum(list(tc.values()))\n",
    "    tf = dict()\n",
    "    for key in tc:\n",
    "        tf[key] = tc[key] / n\n",
    "    return tf\n",
    "\n",
    "def idf(counters):\n",
    "    all_words = set(counters[0].keys())\n",
    "    for counter in counters[1:]:\n",
    "        all_words = all_words.union(counter.keys())\n",
    "    return {word: np.log(len(counters) / \n",
    "                         np.sum([word in doc for doc in counters])) for word in all_words}\n",
    "\n",
    "def subsetter(c, sub):\n",
    "    out = {}\n",
    "    for x in sub:\n",
    "        out[x] = c[x]\n",
    "    return Counter(out)\n",
    "\n",
    "def add_to_counter(counter, value):\n",
    "    if value not in counter.keys():\n",
    "        counter[value] = 1\n",
    "    else:\n",
    "        counter[value] += 1"
   ]
  },
  {
   "cell_type": "code",
   "execution_count": 20,
   "metadata": {},
   "outputs": [
    {
     "name": "stdout",
     "output_type": "stream",
     "text": [
      "Term Counts for Senses\n",
      "===================== Sense 1 =====================\n",
      "Counter({'диво': 11, 'світ': 4, 'люди': 3, 'небесний': 2, 'світило': 2, 'великий': 2, 'золотий': 2, 'довіку': 2, 'жити': 2, 'бачити': 2, 'шотландський': 2, 'воля': 2, 'світа': 2, 'рана': 2, 'нарід': 2, 'напрямок': 2, 'рух': 2, 'місце': 2, 'проти': 2, 'центральний': 1, 'сонячний': 1, 'система': 1, 'мати': 1, 'форма': 1, 'гігантський': 1, 'розжарений': 1, 'кулі': 1, 'випромінювати': 1, 'світло': 1, 'тепло': 1, 'термоядерний': 1, 'реакція': 1, 'відбуватися': 1, 'надра': 1, 'супроводжуватися': 1, 'виділення': 1, 'кількість': 1, 'нейтрино': 1, 'виглянути': 1, 'діброва': 1, 'висунути': 1, 'чоло': 1, 'пучко': 1, 'кучер': 1, 'навкруги': 1, 'зажуритися': 1, 'тарас': 1, 'григорович': 1, 'сторінка': 1, 'крихітний': 1, 'книжечка': 1, \"з'явитися\": 1, 'сумний': 1, 'рядок': 1, 'гріти': 1, 'чужина': 1, 'осліплювати': 1, 'яскравий': 1, 'сяйво': 1, 'люстра': 1, 'світити': 1, 'час': 1, 'вічно': 1, 'лихий': 1, 'минутися': 1, 'забутися': 1, 'добре': 1, 'зостатися': 1, 'добрий': 1, 'перти': 1, 'присудок': 1, 'нікола': 1, 'вихор': 1, 'док': 1, 'дивуватися': 1, 'стороннія': 1, 'чужія': 1, 'казати': 1, 'ярмо': 1, 'люд': 1, 'дуже': 1, 'настання': 1, 'день': 1, 'грати': 1, 'музика': 1, 'пропити': 1, 'знати': 1, 'повставати': 1, 'раненько': 1, 'кома': 1, 'померти': 1, 'липень': 1, 'славний': 1, 'синовий': 1, 'український': 1, 'максим': 1, 'рильський': 1, 'зайти': 1, 'навіки': 1, 'призначення': 1, 'життя': 1, 'суспільство': 1, 'поезія': 1, 'янка': 1, 'купала': 1, 'змальовувати': 1, 'величний': 1, 'образ': 1, 'працелюбний': 1, 'білоруський': 1, 'усвідомити': 1, 'роль': 1, 'історичний': 1, 'процес': 1, 'право': 1, 'том': 1, 'рухатися': 1, 'йти': 1, 'панночка': 1, 'вода': 1, 'бабуся': 1, 'навчити': 1, 'прямо': 1, 'криниця': 1, 'вулиця': 1, 'обходити': 1, 'навпаки': 1, 'земля': 1, 'квітка': 1, 'могти': 1, 'зірвати': 1, 'людина': 1, 'боліти': 1, 'серце': 1, 'крилатий': 1, 'хотітися': 1, 'обличчя': 1, 'хлопець': 1, 'крикнути': 1, 'зраджений': 1, 'їхати': 1, 'південь': 1, 'пуття': 1, 'мусити': 1, 'лежати': 1, 'протилежний': 1, 'сторона': 1, 'удосвіта': 1, 'думка': 1, 'булий': 1, 'виїхати': 1, 'раз': 1, 'близький': 1, 'дорогий': 1, 'неволя': 1, 'забрати': 1, 'вабрана': 1, 'сидіти': 1, 'во': 1, 'темниця': 1})\n",
      "===================== Sense 2 =====================\n",
      "Counter({'небесний': 2, 'світило': 2, 'бачити': 2, 'відбиття': 1, 'відображення': 1, 'вода': 1, 'широкий': 1, 'дніпро': 1, 'плавати': 1, 'старий': 1, 'криниця': 1, 'відро': 1, 'баклага': 1, 'боєць': 1, 'величезний': 1, 'розжарений': 1, 'маса': 1, 'нагадувати': 1, 'яскравий': 1, 'спалах': 1, 'учасник': 1, 'експедиція': 1, 'вибух': 1, 'атомний': 1, 'бомба': 1, 'простір': 1, 'океан': 1, 'зловісний': 1, 'засвітити': 1, 'варварський': 1, 'рука': 1, 'нагрітий': 1, 'спочатку': 1, 'метал': 1, 'треба': 1, 'підігрівати': 1, 'електричний': 1, 'знову': 1, 'засяяти': 1, 'шов': 1})\n",
      "...\n"
     ]
    }
   ],
   "source": [
    "signatures_tc = [(idx, collect_tc(sense)) for idx, sense in senses_with_examples]\n",
    "\n",
    "print('Term Counts for Senses')\n",
    "for signature in signatures_tc[:2]:\n",
    "    print('===================== Sense', signature[0], '=====================')\n",
    "    print(signature[1])\n",
    "print('...')"
   ]
  },
  {
   "cell_type": "code",
   "execution_count": 21,
   "metadata": {},
   "outputs": [
    {
     "data": {
      "image/png": "[encoded data removed]",
      "text/plain": [
       "<Figure size 432x288 with 1 Axes>"
      ]
     },
     "metadata": {
      "needs_background": "light"
     },
     "output_type": "display_data"
    },
    {
     "name": "stdout",
     "output_type": "stream",
     "text": [
      "===================== Sentence 1 =====================\n",
      "overlaps: {'вода', 'криниця', 'сонячний', 'день', 'мати'}\n",
      "correct: 3 , lesk result: 1\n",
      "===================== Sentence 3 =====================\n",
      "overlaps: {'показати', 'світлий', 'сонячний', 'перти'}\n",
      "correct: 6 , lesk result: 3\n",
      "===================== Sentence 4 =====================\n",
      "overlaps: {'перти', 'світло', 'мати', 'диво', 'система'}\n",
      "correct: 6 , lesk result: 1\n",
      "===================== Sentence 11 =====================\n",
      "overlaps: {'мати', 'розжарений'}\n",
      "correct: 6 , lesk result: 1\n",
      "===================== Sentence 12 =====================\n",
      "overlaps: {'процес', 'надра'}\n",
      "correct: 6 , lesk result: 1\n",
      "===================== Sentence 14 =====================\n",
      "overlaps: {'центральний', 'великий'}\n",
      "correct: 6 , lesk result: 1\n",
      "===================== Sentence 15 =====================\n",
      "overlaps: {'реакція', 'термоядерний'}\n",
      "correct: 6 , lesk result: 1\n",
      "===================== Sentence 21 =====================\n",
      "overlaps: {'раз', 'час', 'сонячний'}\n",
      "correct: 6 , lesk result: 1\n",
      "===================== Sentence 22 =====================\n",
      "overlaps: {'сонячний', 'земля', 'світити', 'система'}\n",
      "correct: 6 , lesk result: 1\n",
      "===================== Sentence 23 =====================\n",
      "overlaps: {'процес', 'том', 'могти', 'сонячний'}\n",
      "correct: 6 , lesk result: 1\n",
      "===================== Sentence 26 =====================\n",
      "overlaps: {'величезний', 'спалах'}\n",
      "correct: 6 , lesk result: 2\n",
      "===================== Sentence 27 =====================\n",
      "overlaps: {'енергія', 'протяг'}\n",
      "correct: 6 , lesk result: 3\n",
      "===================== Sentence 28 =====================\n",
      "overlaps: {'процес', 'земля', 'тепло', 'відбуватися'}\n",
      "correct: 6 , lesk result: 1\n",
      "===================== Sentence 29 =====================\n",
      "overlaps: {'реакція', 'термоядерний', 'надра', 'знати', 'сонячний'}\n",
      "correct: 6 , lesk result: 1\n",
      "===================== Sentence 34 =====================\n",
      "overlaps: {'великий', 'булий'}\n",
      "correct: 6 , lesk result: 1\n",
      "===================== Sentence 35 =====================\n",
      "overlaps: {'напрямок', 'час', 'протилежний'}\n",
      "correct: 6 , lesk result: 1\n",
      "===================== Sentence 41 =====================\n",
      "overlaps: {'вийти', 'дівчина'}\n",
      "correct: 2 , lesk result: 3\n",
      "===================== Sentence 47 =====================\n",
      "overlaps: {'люди', 'обличчя', 'світло', 'грати', 'булий'}\n",
      "correct: 3 , lesk result: 1\n",
      "===================== Sentence 49 =====================\n",
      "overlaps: {'ніжний', 'каміння'}\n",
      "correct: 1 , lesk result: 3\n",
      "===================== Sentence 50 =====================\n",
      "overlaps: {'проти', 'земля', 'вулиця', 'знати'}\n",
      "correct: 2 , lesk result: 1\n",
      "20\n"
     ]
    }
   ],
   "source": [
    "lesk_num_overlaps = [len(overlap) for overlap in lesk_overlaps]\n",
    "plt.hist(lesk_num_overlaps, bins=len(np.unique(lesk_num_overlaps)))\n",
    "plt.title('Overall max overlaps distibution')\n",
    "plt.show()\n",
    "\n",
    "num_errors = 0\n",
    "for i, (label, lesk_label) in enumerate(zip(test_annotations, test_lesk_predictions)):\n",
    "    if label != lesk_label and lesk_num_overlaps[i] >= 2:\n",
    "        print('===================== Sentence', i+1, '=====================')\n",
    "        print('overlaps:', lesk_overlaps[i])\n",
    "        print('correct:', label, ', lesk result:', lesk_label)\n",
    "        num_errors += 1\n",
    "print(num_errors)"
   ]
  },
  {
   "cell_type": "code",
   "execution_count": 22,
   "metadata": {},
   "outputs": [
    {
     "name": "stdout",
     "output_type": "stream",
     "text": [
      "Word: сонце\n",
      "===================== Sense 1 =====================\n",
      " Центральне небесне світило сонячної «системи, що має форму гігантської розжареної кулі, яка випромінює світло й тепло\n",
      "===================== Sense 2 =====================\n",
      " Відбиття, відображення чим-небудь або у чомусь цього небесного світила\n",
      "===================== Sense 3 =====================\n",
      " Світло й тепло, що випромінюються цим світилом\n",
      "===================== Sense 4 =====================\n",
      " Про те (того), хто (що) є джерелом життя, втіхи, радості і т\n",
      "===================== Sense 5 =====================\n",
      " Те, що освітлює шлях, той, хто веде за собою  (у житті, боротьбі і т\n",
      "===================== Sense 6 =====================\n",
      " Центральна планета інших планетних систем\n",
      "===================== Sense 7 =====================\n",
      " Гімнастична вправа на турніку\n"
     ]
    }
   ],
   "source": [
    "print('Word:', word)\n",
    "for sense in senses:\n",
    "    print('===================== Sense', sense[0], '=====================')\n",
    "    print(sense[1])"
   ]
  },
  {
   "cell_type": "code",
   "execution_count": 23,
   "metadata": {},
   "outputs": [],
   "source": [
    "for i in range(3):\n",
    "    for value in ['захід', 'схід']:\n",
    "        add_to_counter(signatures_tc[0][1], value)\n",
    "        \n",
    "    for value in ['відбивати', 'щуритись']:\n",
    "        add_to_counter(signatures_tc[1][1], value)\n",
    "        \n",
    "    for value in ['обличчя', 'світло', 'тепло', 'світлий', 'промені', 'освітити']:\n",
    "        add_to_counter(signatures_tc[2][1], value)\n",
    "        \n",
    "    for value in ['джерело', 'радість', 'людина', 'життя']:\n",
    "        add_to_counter(signatures_tc[3][1], value)\n",
    "\n",
    "    for value in ['шлях', 'життя', 'вести', 'показувати']:\n",
    "        add_to_counter(signatures_tc[4][1], value)    \n",
    "\n",
    "    for value in ['астроном', 'реакція', 'процес', 'планета', 'система', 'енергія',\n",
    "                  'наука', 'характеристика', 'космос', 'зірка', 'комета',\n",
    "                  'модель', 'модельний', 'спектр', 'сфера', 'температура', 'шар']:\n",
    "        add_to_counter(signatures_tc[5][1], value)\n",
    "        \n",
    "    for value in ['гімнастика', 'тіло', 'спорт']:\n",
    "        add_to_counter(signatures_tc[6][1], value)"
   ]
  },
  {
   "cell_type": "code",
   "execution_count": 24,
   "metadata": {},
   "outputs": [
    {
     "name": "stdout",
     "output_type": "stream",
     "text": [
      "Term Frequencies for Senses\n",
      "===================== Sense 1 =====================\n",
      "{'центральний': 0.005076142131979695, 'небесний': 0.01015228426395939, 'світило': 0.01015228426395939, 'сонячний': 0.005076142131979695, 'система': 0.005076142131979695, 'мати': 0.005076142131979695, 'форма': 0.005076142131979695, 'гігантський': 0.005076142131979695, 'розжарений': 0.005076142131979695, 'кулі': 0.005076142131979695, 'випромінювати': 0.005076142131979695, 'світло': 0.005076142131979695, 'тепло': 0.005076142131979695, 'термоядерний': 0.005076142131979695, 'реакція': 0.005076142131979695, 'відбуватися': 0.005076142131979695, 'надра': 0.005076142131979695, 'супроводжуватися': 0.005076142131979695, 'виділення': 0.005076142131979695, 'великий': 0.01015228426395939, 'кількість': 0.005076142131979695, 'нейтрино': 0.005076142131979695, 'виглянути': 0.005076142131979695, 'діброва': 0.005076142131979695, 'висунути': 0.005076142131979695, 'золотий': 0.01015228426395939, 'чоло': 0.005076142131979695, 'пучко': 0.005076142131979695, 'кучер': 0.005076142131979695, 'навкруги': 0.005076142131979695, 'зажуритися': 0.005076142131979695, 'тарас': 0.005076142131979695, 'григорович': 0.005076142131979695, 'сторінка': 0.005076142131979695, 'крихітний': 0.005076142131979695, 'книжечка': 0.005076142131979695, \"з'явитися\": 0.005076142131979695, 'сумний': 0.005076142131979695, 'рядок': 0.005076142131979695, 'гріти': 0.005076142131979695, 'чужина': 0.005076142131979695, 'осліплювати': 0.005076142131979695, 'яскравий': 0.005076142131979695, 'сяйво': 0.005076142131979695, 'люстра': 0.005076142131979695, 'диво': 0.05583756345177665, 'довіку': 0.01015228426395939, 'світити': 0.005076142131979695, 'час': 0.005076142131979695, 'вічно': 0.005076142131979695, 'лихий': 0.005076142131979695, 'минутися': 0.005076142131979695, 'забутися': 0.005076142131979695, 'добре': 0.005076142131979695, 'зостатися': 0.005076142131979695, 'добрий': 0.005076142131979695, 'жити': 0.01015228426395939, 'люди': 0.015228426395939087, 'світ': 0.02030456852791878, 'перти': 0.005076142131979695, 'присудок': 0.005076142131979695, 'нікола': 0.005076142131979695, 'вихор': 0.005076142131979695, 'бачити': 0.01015228426395939, 'док': 0.005076142131979695, 'дивуватися': 0.005076142131979695, 'шотландський': 0.01015228426395939, 'воля': 0.01015228426395939, 'стороннія': 0.005076142131979695, 'чужія': 0.005076142131979695, 'казати': 0.005076142131979695, 'світа': 0.01015228426395939, 'ярмо': 0.005076142131979695, 'люд': 0.005076142131979695, 'дуже': 0.005076142131979695, 'рана': 0.01015228426395939, 'настання': 0.005076142131979695, 'день': 0.005076142131979695, 'грати': 0.005076142131979695, 'музика': 0.005076142131979695, 'пропити': 0.005076142131979695, 'знати': 0.005076142131979695, 'повставати': 0.005076142131979695, 'раненько': 0.005076142131979695, 'кома': 0.005076142131979695, 'померти': 0.005076142131979695, 'липень': 0.005076142131979695, 'славний': 0.005076142131979695, 'синовий': 0.005076142131979695, 'український': 0.005076142131979695, 'нарід': 0.01015228426395939, 'максим': 0.005076142131979695, 'рильський': 0.005076142131979695, 'зайти': 0.005076142131979695, 'навіки': 0.005076142131979695, 'напрямок': 0.01015228426395939, 'рух': 0.01015228426395939, 'місце': 0.01015228426395939, 'призначення': 0.005076142131979695, 'життя': 0.005076142131979695, 'суспільство': 0.005076142131979695, 'поезія': 0.005076142131979695, 'янка': 0.005076142131979695, 'купала': 0.005076142131979695, 'змальовувати': 0.005076142131979695, 'величний': 0.005076142131979695, 'образ': 0.005076142131979695, 'працелюбний': 0.005076142131979695, 'білоруський': 0.005076142131979695, 'усвідомити': 0.005076142131979695, 'роль': 0.005076142131979695, 'історичний': 0.005076142131979695, 'процес': 0.005076142131979695, 'право': 0.005076142131979695, 'проти': 0.01015228426395939, 'том': 0.005076142131979695, 'рухатися': 0.005076142131979695, 'йти': 0.005076142131979695, 'панночка': 0.005076142131979695, 'вода': 0.005076142131979695, 'бабуся': 0.005076142131979695, 'навчити': 0.005076142131979695, 'прямо': 0.005076142131979695, 'криниця': 0.005076142131979695, 'вулиця': 0.005076142131979695, 'обходити': 0.005076142131979695, 'навпаки': 0.005076142131979695, 'земля': 0.005076142131979695, 'квітка': 0.005076142131979695, 'могти': 0.005076142131979695, 'зірвати': 0.005076142131979695, 'людина': 0.005076142131979695, 'боліти': 0.005076142131979695, 'серце': 0.005076142131979695, 'крилатий': 0.005076142131979695, 'хотітися': 0.005076142131979695, 'обличчя': 0.005076142131979695, 'хлопець': 0.005076142131979695, 'крикнути': 0.005076142131979695, 'зраджений': 0.005076142131979695, 'їхати': 0.005076142131979695, 'південь': 0.005076142131979695, 'пуття': 0.005076142131979695, 'мусити': 0.005076142131979695, 'лежати': 0.005076142131979695, 'протилежний': 0.005076142131979695, 'сторона': 0.005076142131979695, 'удосвіта': 0.005076142131979695, 'думка': 0.005076142131979695, 'булий': 0.005076142131979695, 'виїхати': 0.005076142131979695, 'раз': 0.005076142131979695, 'близький': 0.005076142131979695, 'дорогий': 0.005076142131979695, 'неволя': 0.005076142131979695, 'забрати': 0.005076142131979695, 'вабрана': 0.005076142131979695, 'сидіти': 0.005076142131979695, 'во': 0.005076142131979695, 'темниця': 0.005076142131979695, 'захід': 0.015228426395939087, 'схід': 0.015228426395939087}\n",
      "...\n"
     ]
    }
   ],
   "source": [
    "signatures_tf = [(idx, tc_to_tf(tc)) for idx, tc in signatures_tc]\n",
    "\n",
    "print('Term Frequencies for Senses')\n",
    "for signature in signatures_tf[:1]:\n",
    "    print('===================== Sense', signature[0], '=====================')\n",
    "    print(signature[1])\n",
    "print('...')"
   ]
  },
  {
   "cell_type": "code",
   "execution_count": 25,
   "metadata": {},
   "outputs": [
    {
     "name": "stdout",
     "output_type": "stream",
     "text": [
      "Inverse Document (Senses as Documents) Frequencies:\n",
      "{'світило': 0.8472978603872037, 'відбиття': 1.252762968495368, 'бачити': 1.252762968495368, 'великий': 1.9459101490553132, 'небесний': 1.252762968495368, 'планета': 1.9459101490553132, 'життя': 0.8472978603872037} ...\n"
     ]
    }
   ],
   "source": [
    "signatures_idf = idf([tc[1] for tc in signatures_tc])\n",
    "print('Inverse Document (Senses as Documents) Frequencies:')\n",
    "print(dict(subsetter(signatures_idf, {'світило', 'бачити', 'відбиття', 'великий',\n",
    "                                      'небесний', 'життя', 'планета'})), '...')"
   ]
  },
  {
   "cell_type": "code",
   "execution_count": 26,
   "metadata": {},
   "outputs": [
    {
     "name": "stdout",
     "output_type": "stream",
     "text": [
      "TF-IDF for Senses\n",
      "===================== Sense 1 =====================\n",
      "{'центральний': 1.252762968495368, 'небесний': 2.505525936990736, 'світило': 1.6945957207744073, 'сонячний': 1.252762968495368, 'система': 1.252762968495368, 'мати': 1.9459101490553132, 'форма': 1.9459101490553132, 'гігантський': 1.9459101490553132, 'розжарений': 1.252762968495368, 'кулі': 1.9459101490553132, 'випромінювати': 1.9459101490553132, 'світло': 1.252762968495368, 'тепло': 0.8472978603872037, 'термоядерний': 1.9459101490553132, 'реакція': 1.252762968495368, 'відбуватися': 1.9459101490553132, 'надра': 1.9459101490553132, 'супроводжуватися': 1.9459101490553132, 'виділення': 1.9459101490553132, 'великий': 3.8918202981106265, 'кількість': 1.9459101490553132, 'нейтрино': 1.9459101490553132, 'виглянути': 1.9459101490553132, 'діброва': 1.9459101490553132, 'висунути': 1.9459101490553132, 'золотий': 3.8918202981106265, 'чоло': 1.9459101490553132, 'пучко': 1.9459101490553132, 'кучер': 1.9459101490553132, 'навкруги': 1.9459101490553132, 'зажуритися': 1.9459101490553132, 'тарас': 1.9459101490553132, 'григорович': 1.9459101490553132, 'сторінка': 1.9459101490553132, 'крихітний': 1.9459101490553132, 'книжечка': 1.9459101490553132, \"з'явитися\": 1.9459101490553132, 'сумний': 1.9459101490553132, 'рядок': 1.9459101490553132, 'гріти': 1.9459101490553132, 'чужина': 1.9459101490553132, 'осліплювати': 1.9459101490553132, 'яскравий': 1.252762968495368, 'сяйво': 1.9459101490553132, 'люстра': 1.9459101490553132, 'диво': 21.405011639608446, 'довіку': 3.8918202981106265, 'світити': 1.9459101490553132, 'час': 0.8472978603872037, 'вічно': 1.9459101490553132, 'лихий': 1.9459101490553132, 'минутися': 1.9459101490553132, 'забутися': 1.9459101490553132, 'добре': 1.9459101490553132, 'зостатися': 1.9459101490553132, 'добрий': 1.9459101490553132, 'жити': 3.8918202981106265, 'люди': 2.5418935811616112, 'світ': 5.011051873981472, 'перти': 1.252762968495368, 'присудок': 1.9459101490553132, 'нікола': 1.252762968495368, 'вихор': 1.9459101490553132, 'бачити': 2.505525936990736, 'док': 1.9459101490553132, 'дивуватися': 1.9459101490553132, 'шотландський': 3.8918202981106265, 'воля': 3.8918202981106265, 'стороннія': 1.9459101490553132, 'чужія': 1.9459101490553132, 'казати': 1.9459101490553132, 'світа': 3.8918202981106265, 'ярмо': 1.9459101490553132, 'люд': 1.9459101490553132, 'дуже': 1.9459101490553132, 'рана': 3.8918202981106265, 'настання': 1.9459101490553132, 'день': 1.252762968495368, 'грати': 1.252762968495368, 'музика': 1.9459101490553132, 'пропити': 1.9459101490553132, 'знати': 1.9459101490553132, 'повставати': 1.9459101490553132, 'раненько': 1.9459101490553132, 'кома': 1.9459101490553132, 'померти': 1.9459101490553132, 'липень': 1.9459101490553132, 'славний': 1.9459101490553132, 'синовий': 1.9459101490553132, 'український': 1.9459101490553132, 'нарід': 3.8918202981106265, 'максим': 1.9459101490553132, 'рильський': 1.9459101490553132, 'зайти': 1.9459101490553132, 'навіки': 1.9459101490553132, 'напрямок': 3.8918202981106265, 'рух': 3.8918202981106265, 'місце': 2.505525936990736, 'призначення': 1.9459101490553132, 'життя': 0.8472978603872037, 'суспільство': 1.9459101490553132, 'поезія': 1.9459101490553132, 'янка': 1.9459101490553132, 'купала': 1.9459101490553132, 'змальовувати': 1.9459101490553132, 'величний': 1.9459101490553132, 'образ': 1.9459101490553132, 'працелюбний': 1.9459101490553132, 'білоруський': 1.9459101490553132, 'усвідомити': 1.9459101490553132, 'роль': 1.9459101490553132, 'історичний': 1.9459101490553132, 'процес': 1.252762968495368, 'право': 1.9459101490553132, 'проти': 3.8918202981106265, 'том': 1.9459101490553132, 'рухатися': 1.9459101490553132, 'йти': 1.9459101490553132, 'панночка': 1.9459101490553132, 'вода': 1.252762968495368, 'бабуся': 1.9459101490553132, 'навчити': 1.9459101490553132, 'прямо': 1.9459101490553132, 'криниця': 1.252762968495368, 'вулиця': 1.9459101490553132, 'обходити': 1.9459101490553132, 'навпаки': 1.9459101490553132, 'земля': 1.252762968495368, 'квітка': 1.9459101490553132, 'могти': 1.9459101490553132, 'зірвати': 1.9459101490553132, 'людина': 1.252762968495368, 'боліти': 1.9459101490553132, 'серце': 1.252762968495368, 'крилатий': 1.9459101490553132, 'хотітися': 1.9459101490553132, 'обличчя': 1.252762968495368, 'хлопець': 1.252762968495368, 'крикнути': 1.9459101490553132, 'зраджений': 1.9459101490553132, 'їхати': 1.9459101490553132, 'південь': 1.9459101490553132, 'пуття': 1.252762968495368, 'мусити': 1.9459101490553132, 'лежати': 1.9459101490553132, 'протилежний': 1.9459101490553132, 'сторона': 1.9459101490553132, 'удосвіта': 1.9459101490553132, 'думка': 1.9459101490553132, 'булий': 1.9459101490553132, 'виїхати': 1.9459101490553132, 'раз': 1.252762968495368, 'близький': 1.9459101490553132, 'дорогий': 1.9459101490553132, 'неволя': 1.9459101490553132, 'забрати': 1.9459101490553132, 'вабрана': 1.9459101490553132, 'сидіти': 1.9459101490553132, 'во': 1.9459101490553132, 'темниця': 1.9459101490553132, 'захід': 5.8377304471659395, 'схід': 5.8377304471659395}\n",
      "...\n"
     ]
    }
   ],
   "source": [
    "signatures_tfidf = [(idx, {word: tf[word] * signatures_idf[word]\n",
    "                           for word in tf})\n",
    "                                    for idx, tf in signatures_tc]\n",
    "\n",
    "print('TF-IDF for Senses')\n",
    "for signature in signatures_tfidf[:1]:\n",
    "    print('===================== Sense', signature[0], '=====================')\n",
    "    print(signature[1])\n",
    "print('...')"
   ]
  },
  {
   "cell_type": "code",
   "execution_count": 27,
   "metadata": {},
   "outputs": [],
   "source": [
    "def classify_advanced(sentence, word, senses_tfidf, senses_text, log=False):\n",
    "    \"\"\"\n",
    "    Find the sense that has the biggest overlap with the word context.\n",
    "    Use sense 1 as default.\n",
    "    \"\"\"\n",
    "    tc = collect_tc(sentence)\n",
    "    best_sense = 1\n",
    "    max_score = 0\n",
    "    for sense_id, signature in senses_tfidf:\n",
    "        weights = [signature[word] for word in tc if word in signature]\n",
    "        score = np.prod(weights)\n",
    "        if score > max_score:\n",
    "            best_sense = sense_id\n",
    "            max_score = score\n",
    "            best_weights = weights\n",
    "    if log:\n",
    "        print(\" \".join(sentence))\n",
    "        print(\"Best sense:\", best_sense, \"--\", senses_text[best_sense-1][1])\n",
    "    return best_sense, best_weights"
   ]
  },
  {
   "cell_type": "code",
   "execution_count": 28,
   "metadata": {
    "scrolled": false
   },
   "outputs": [
    {
     "name": "stdout",
     "output_type": "stream",
     "text": [
      "Counter({6: 27, 3: 10, 1: 8, 2: 3, 4: 2})\n",
      "Counter({6: 19, 1: 16, 3: 8, 2: 3, 4: 2, 7: 1, 5: 1})\n",
      "Accuracy: 0.58\n"
     ]
    },
    {
     "data": {
      "image/png": "[encoded data removed]",
      "text/plain": [
       "<Figure size 432x288 with 2 Axes>"
      ]
     },
     "metadata": {
      "needs_background": "light"
     },
     "output_type": "display_data"
    }
   ],
   "source": [
    "test_lesk_predictions = test_classifier(test_sentences, test_annotations,\n",
    "                                        classify_advanced, signatures_tfidf)"
   ]
  },
  {
   "cell_type": "markdown",
   "metadata": {},
   "source": [
    "> **So there is an improvement (Accuracy: 0.1 -> 0.58, and Confusion Matrix looks more diagonal). Note that the word is hard to disambiguate in some cases even for a person since there is a thin line between several senses**"
   ]
  }
 ],
 "metadata": {
  "kernelspec": {
   "display_name": "Python 3",
   "language": "python",
   "name": "python3"
  },
  "language_info": {
   "codemirror_mode": {
    "name": "ipython",
    "version": 3
   },
   "file_extension": ".py",
   "mimetype": "text/x-python",
   "name": "python",
   "nbconvert_exporter": "python",
   "pygments_lexer": "ipython3",
   "version": "3.6.8"
  }
 },
 "nbformat": 4,
 "nbformat_minor": 2
}
